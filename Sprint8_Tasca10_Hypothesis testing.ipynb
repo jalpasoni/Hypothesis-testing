{
 "cells": [
  {
   "cell_type": "markdown",
   "metadata": {},
   "source": [
    "# _Sprint 8-Tasca 10_ *: Hypothesis testing* "
   ]
  },
  {
   "cell_type": "markdown",
   "metadata": {
    "ExecuteTime": {
     "end_time": "2021-01-12T14:58:51.684805Z",
     "start_time": "2021-01-12T14:58:51.681499Z"
    }
   },
   "source": [
    "## Level 1 \n",
    "### Exercise 1\n",
    "\n",
    "Grab a sports theme dataset you like and select an attribute from the dataset. Calculate the p-value and say if you reject the null hypothesis by taking a 5% alpha."
   ]
  },
  {
   "cell_type": "code",
   "execution_count": 1,
   "metadata": {},
   "outputs": [],
   "source": [
    "import pandas as pd\n",
    "import numpy as np\n",
    "import random\n",
    "\n",
    "import matplotlib.pyplot as plt\n",
    "%matplotlib inline\n",
    "import seaborn as sns\n",
    "\n",
    "from scipy import stats\n",
    "from statsmodels.stats import weightstats as stests\n",
    "from scipy.stats import f_oneway\n",
    "\n",
    "import warnings \n",
    "warnings.filterwarnings(\"ignore\")\n",
    "\n",
    "import os\n",
    "\n",
    "pd.set_option('display.max_columns', None)"
   ]
  },
  {
   "cell_type": "code",
   "execution_count": 2,
   "metadata": {},
   "outputs": [
    {
     "name": "stdout",
     "output_type": "stream",
     "text": [
      "/Users/jalpa/Desktop/DataFun/Course_Generalitat/Notebooks\n"
     ]
    }
   ],
   "source": [
    "print(os.getcwd())"
   ]
  },
  {
   "cell_type": "code",
   "execution_count": 3,
   "metadata": {},
   "outputs": [
    {
     "data": {
      "text/plain": [
       "['la-liga.csv',\n",
       " 'mensfootball_results.csv',\n",
       " 'laliga_player_stats_spanish.csv',\n",
       " 'La_Liga_Winners.csv.xls',\n",
       " 'womensfootball_results.csv',\n",
       " 'laliga_player_stats_english.csv']"
      ]
     },
     "execution_count": 3,
     "metadata": {},
     "output_type": "execute_result"
    }
   ],
   "source": [
    "os.chdir(\"../Data/Football/\")\n",
    "os.listdir()"
   ]
  },
  {
   "cell_type": "code",
   "execution_count": 4,
   "metadata": {},
   "outputs": [
    {
     "data": {
      "text/html": [
       "<div>\n",
       "<style scoped>\n",
       "    .dataframe tbody tr th:only-of-type {\n",
       "        vertical-align: middle;\n",
       "    }\n",
       "\n",
       "    .dataframe tbody tr th {\n",
       "        vertical-align: top;\n",
       "    }\n",
       "\n",
       "    .dataframe thead th {\n",
       "        text-align: right;\n",
       "    }\n",
       "</style>\n",
       "<table border=\"1\" class=\"dataframe\">\n",
       "  <thead>\n",
       "    <tr style=\"text-align: right;\">\n",
       "      <th></th>\n",
       "      <th>Team</th>\n",
       "      <th>Position</th>\n",
       "      <th>Shirt number</th>\n",
       "      <th>Name</th>\n",
       "      <th>Minutes played</th>\n",
       "      <th>Games played</th>\n",
       "      <th>Percentage of games played</th>\n",
       "      <th>Full games played</th>\n",
       "      <th>Percentage of full games played</th>\n",
       "      <th>Games started</th>\n",
       "      <th>Percentage of games started</th>\n",
       "      <th>Games where substituted</th>\n",
       "      <th>Percentage of games where substituted</th>\n",
       "      <th>Yellow Cards</th>\n",
       "      <th>Red Cards</th>\n",
       "      <th>Second Yellows</th>\n",
       "      <th>Goals scored</th>\n",
       "      <th>Penalties scored</th>\n",
       "      <th>Own goals</th>\n",
       "      <th>Goals conceded while player on pitch</th>\n",
       "      <th>Tackles</th>\n",
       "      <th>Interceptions</th>\n",
       "      <th>Recoveries</th>\n",
       "      <th>Clearances</th>\n",
       "      <th>Successful tackles</th>\n",
       "      <th>Unssuccessful tackles</th>\n",
       "      <th>Last man</th>\n",
       "      <th>Successful duels</th>\n",
       "      <th>Duels lost</th>\n",
       "      <th>Successful aerial challenges</th>\n",
       "      <th>Unsuccessful aerial challenges</th>\n",
       "      <th>Offsides</th>\n",
       "      <th>Fouls suffered</th>\n",
       "      <th>Fouls committed</th>\n",
       "      <th>Penalties won</th>\n",
       "      <th>Penalties given away</th>\n",
       "      <th>Handballs committed</th>\n",
       "      <th>Fouls committed per card</th>\n",
       "      <th>Shots</th>\n",
       "      <th>Shots on target</th>\n",
       "      <th>Assists</th>\n",
       "      <th>Successful dribbles</th>\n",
       "      <th>Unsuccessful dribbles</th>\n",
       "      <th>Goals scored.1</th>\n",
       "      <th>From inside the area</th>\n",
       "      <th>From outside the area</th>\n",
       "      <th>Goals with left foot</th>\n",
       "      <th>Goals with right foot</th>\n",
       "      <th>Penalties scored.1</th>\n",
       "      <th>Goals scored with header</th>\n",
       "      <th>Goals from set piece</th>\n",
       "      <th>Crosses</th>\n",
       "      <th>Corners</th>\n",
       "      <th>Tackles.1</th>\n",
       "      <th>Duels</th>\n",
       "      <th>Man-to-man duels</th>\n",
       "      <th>Aerial duels</th>\n",
       "      <th>Passes</th>\n",
       "      <th>Short passes</th>\n",
       "      <th>Long passes</th>\n",
       "      <th>Through balls</th>\n",
       "      <th>Goals scored per attempt</th>\n",
       "    </tr>\n",
       "  </thead>\n",
       "  <tbody>\n",
       "    <tr>\n",
       "      <th>0</th>\n",
       "      <td>Athletic Club</td>\n",
       "      <td>Goalkeeper</td>\n",
       "      <td>NaN</td>\n",
       "      <td>Hodei Oleaga</td>\n",
       "      <td>0.00</td>\n",
       "      <td>0</td>\n",
       "      <td>0,0%</td>\n",
       "      <td>0</td>\n",
       "      <td>0,0%</td>\n",
       "      <td>0</td>\n",
       "      <td>0,0%</td>\n",
       "      <td>0</td>\n",
       "      <td>0,0%</td>\n",
       "      <td>0</td>\n",
       "      <td>0</td>\n",
       "      <td>0</td>\n",
       "      <td>0</td>\n",
       "      <td>0</td>\n",
       "      <td>0</td>\n",
       "      <td>0</td>\n",
       "      <td>0</td>\n",
       "      <td>0</td>\n",
       "      <td>0</td>\n",
       "      <td>0</td>\n",
       "      <td>0</td>\n",
       "      <td>0</td>\n",
       "      <td>0</td>\n",
       "      <td>0</td>\n",
       "      <td>0</td>\n",
       "      <td>0</td>\n",
       "      <td>0</td>\n",
       "      <td>0</td>\n",
       "      <td>0</td>\n",
       "      <td>0</td>\n",
       "      <td>0</td>\n",
       "      <td>0</td>\n",
       "      <td>0</td>\n",
       "      <td>0</td>\n",
       "      <td>0</td>\n",
       "      <td>0</td>\n",
       "      <td>0</td>\n",
       "      <td>0</td>\n",
       "      <td>0</td>\n",
       "      <td>0</td>\n",
       "      <td>0</td>\n",
       "      <td>0</td>\n",
       "      <td>0</td>\n",
       "      <td>0</td>\n",
       "      <td>0</td>\n",
       "      <td>0</td>\n",
       "      <td>0</td>\n",
       "      <td>0</td>\n",
       "      <td>0</td>\n",
       "      <td>0</td>\n",
       "      <td>0</td>\n",
       "      <td>0</td>\n",
       "      <td>0</td>\n",
       "      <td>0.0</td>\n",
       "      <td>0.0</td>\n",
       "      <td>0</td>\n",
       "      <td>0</td>\n",
       "      <td>0</td>\n",
       "    </tr>\n",
       "    <tr>\n",
       "      <th>1</th>\n",
       "      <td>Athletic Club</td>\n",
       "      <td>Goalkeeper</td>\n",
       "      <td>1.0</td>\n",
       "      <td>A. Remiro</td>\n",
       "      <td>0.00</td>\n",
       "      <td>0</td>\n",
       "      <td>0,0%</td>\n",
       "      <td>0</td>\n",
       "      <td>0,0%</td>\n",
       "      <td>0</td>\n",
       "      <td>0,0%</td>\n",
       "      <td>0</td>\n",
       "      <td>0,0%</td>\n",
       "      <td>0</td>\n",
       "      <td>0</td>\n",
       "      <td>0</td>\n",
       "      <td>0</td>\n",
       "      <td>0</td>\n",
       "      <td>0</td>\n",
       "      <td>0</td>\n",
       "      <td>0</td>\n",
       "      <td>0</td>\n",
       "      <td>0</td>\n",
       "      <td>0</td>\n",
       "      <td>0</td>\n",
       "      <td>0</td>\n",
       "      <td>0</td>\n",
       "      <td>0</td>\n",
       "      <td>0</td>\n",
       "      <td>0</td>\n",
       "      <td>0</td>\n",
       "      <td>0</td>\n",
       "      <td>0</td>\n",
       "      <td>0</td>\n",
       "      <td>0</td>\n",
       "      <td>0</td>\n",
       "      <td>0</td>\n",
       "      <td>0</td>\n",
       "      <td>0</td>\n",
       "      <td>0</td>\n",
       "      <td>0</td>\n",
       "      <td>0</td>\n",
       "      <td>0</td>\n",
       "      <td>0</td>\n",
       "      <td>0</td>\n",
       "      <td>0</td>\n",
       "      <td>0</td>\n",
       "      <td>0</td>\n",
       "      <td>0</td>\n",
       "      <td>0</td>\n",
       "      <td>0</td>\n",
       "      <td>0</td>\n",
       "      <td>0</td>\n",
       "      <td>0</td>\n",
       "      <td>0</td>\n",
       "      <td>0</td>\n",
       "      <td>0</td>\n",
       "      <td>0.0</td>\n",
       "      <td>0.0</td>\n",
       "      <td>0</td>\n",
       "      <td>0</td>\n",
       "      <td>0</td>\n",
       "    </tr>\n",
       "    <tr>\n",
       "      <th>2</th>\n",
       "      <td>Athletic Club</td>\n",
       "      <td>Goalkeeper</td>\n",
       "      <td>13.0</td>\n",
       "      <td>Herrerín</td>\n",
       "      <td>2.79</td>\n",
       "      <td>31</td>\n",
       "      <td>82,0%</td>\n",
       "      <td>31</td>\n",
       "      <td>82,0%</td>\n",
       "      <td>31</td>\n",
       "      <td>82,0%</td>\n",
       "      <td>0</td>\n",
       "      <td>0,0%</td>\n",
       "      <td>1</td>\n",
       "      <td>0</td>\n",
       "      <td>0</td>\n",
       "      <td>0</td>\n",
       "      <td>0</td>\n",
       "      <td>0</td>\n",
       "      <td>32</td>\n",
       "      <td>0</td>\n",
       "      <td>0</td>\n",
       "      <td>228</td>\n",
       "      <td>27</td>\n",
       "      <td>0</td>\n",
       "      <td>0</td>\n",
       "      <td>0</td>\n",
       "      <td>3</td>\n",
       "      <td>3</td>\n",
       "      <td>18</td>\n",
       "      <td>1</td>\n",
       "      <td>0</td>\n",
       "      <td>4</td>\n",
       "      <td>1</td>\n",
       "      <td>0</td>\n",
       "      <td>0</td>\n",
       "      <td>0</td>\n",
       "      <td>0</td>\n",
       "      <td>0</td>\n",
       "      <td>0</td>\n",
       "      <td>1</td>\n",
       "      <td>0</td>\n",
       "      <td>0</td>\n",
       "      <td>0</td>\n",
       "      <td>0</td>\n",
       "      <td>0</td>\n",
       "      <td>0</td>\n",
       "      <td>0</td>\n",
       "      <td>0</td>\n",
       "      <td>0</td>\n",
       "      <td>0</td>\n",
       "      <td>0</td>\n",
       "      <td>0</td>\n",
       "      <td>0</td>\n",
       "      <td>25</td>\n",
       "      <td>6</td>\n",
       "      <td>19</td>\n",
       "      <td>887.0</td>\n",
       "      <td>128.0</td>\n",
       "      <td>759</td>\n",
       "      <td>1</td>\n",
       "      <td>0</td>\n",
       "    </tr>\n",
       "  </tbody>\n",
       "</table>\n",
       "</div>"
      ],
      "text/plain": [
       "            Team    Position  Shirt number          Name  Minutes played  \\\n",
       "0  Athletic Club  Goalkeeper           NaN  Hodei Oleaga            0.00   \n",
       "1  Athletic Club  Goalkeeper           1.0     A. Remiro            0.00   \n",
       "2  Athletic Club  Goalkeeper          13.0      Herrerín            2.79   \n",
       "\n",
       "   Games played Percentage of games played  Full games played  \\\n",
       "0             0                       0,0%                  0   \n",
       "1             0                       0,0%                  0   \n",
       "2            31                      82,0%                 31   \n",
       "\n",
       "  Percentage of full games played  Games started Percentage of games started  \\\n",
       "0                            0,0%              0                        0,0%   \n",
       "1                            0,0%              0                        0,0%   \n",
       "2                           82,0%             31                       82,0%   \n",
       "\n",
       "   Games where substituted Percentage of games where substituted  \\\n",
       "0                        0                                  0,0%   \n",
       "1                        0                                  0,0%   \n",
       "2                        0                                  0,0%   \n",
       "\n",
       "   Yellow Cards  Red Cards  Second Yellows  Goals scored  Penalties scored  \\\n",
       "0             0          0               0             0                 0   \n",
       "1             0          0               0             0                 0   \n",
       "2             1          0               0             0                 0   \n",
       "\n",
       "   Own goals  Goals conceded while player on pitch  Tackles  Interceptions  \\\n",
       "0          0                                     0        0              0   \n",
       "1          0                                     0        0              0   \n",
       "2          0                                    32        0              0   \n",
       "\n",
       "   Recoveries  Clearances  Successful tackles  Unssuccessful tackles  \\\n",
       "0           0           0                   0                      0   \n",
       "1           0           0                   0                      0   \n",
       "2         228          27                   0                      0   \n",
       "\n",
       "   Last man  Successful duels  Duels lost  Successful aerial challenges  \\\n",
       "0         0                 0           0                             0   \n",
       "1         0                 0           0                             0   \n",
       "2         0                 3           3                            18   \n",
       "\n",
       "   Unsuccessful aerial challenges  Offsides  Fouls suffered  Fouls committed  \\\n",
       "0                               0         0               0                0   \n",
       "1                               0         0               0                0   \n",
       "2                               1         0               4                1   \n",
       "\n",
       "   Penalties won  Penalties given away  Handballs committed  \\\n",
       "0              0                     0                    0   \n",
       "1              0                     0                    0   \n",
       "2              0                     0                    0   \n",
       "\n",
       "   Fouls committed per card  Shots  Shots on target  Assists  \\\n",
       "0                         0      0                0        0   \n",
       "1                         0      0                0        0   \n",
       "2                         0      0                0        1   \n",
       "\n",
       "   Successful dribbles  Unsuccessful dribbles  Goals scored.1  \\\n",
       "0                    0                      0               0   \n",
       "1                    0                      0               0   \n",
       "2                    0                      0               0   \n",
       "\n",
       "   From inside the area  From outside the area  Goals with left foot  \\\n",
       "0                     0                      0                     0   \n",
       "1                     0                      0                     0   \n",
       "2                     0                      0                     0   \n",
       "\n",
       "   Goals with right foot  Penalties scored.1  Goals scored with header  \\\n",
       "0                      0                   0                         0   \n",
       "1                      0                   0                         0   \n",
       "2                      0                   0                         0   \n",
       "\n",
       "   Goals from set piece  Crosses  Corners  Tackles.1  Duels  Man-to-man duels  \\\n",
       "0                     0        0        0          0      0                 0   \n",
       "1                     0        0        0          0      0                 0   \n",
       "2                     0        0        0          0     25                 6   \n",
       "\n",
       "   Aerial duels  Passes  Short passes  Long passes  Through balls  \\\n",
       "0             0     0.0           0.0            0              0   \n",
       "1             0     0.0           0.0            0              0   \n",
       "2            19   887.0         128.0          759              1   \n",
       "\n",
       "   Goals scored per attempt  \n",
       "0                         0  \n",
       "1                         0  \n",
       "2                         0  "
      ]
     },
     "execution_count": 4,
     "metadata": {},
     "output_type": "execute_result"
    }
   ],
   "source": [
    "sportsdata = pd.read_csv('laliga_player_stats_english.csv')\n",
    "sportsdata.head(3)"
   ]
  },
  {
   "cell_type": "code",
   "execution_count": 5,
   "metadata": {},
   "outputs": [
    {
     "data": {
      "text/plain": [
       "(556, 62)"
      ]
     },
     "execution_count": 5,
     "metadata": {},
     "output_type": "execute_result"
    }
   ],
   "source": [
    "sportsdata.shape"
   ]
  },
  {
   "cell_type": "markdown",
   "metadata": {},
   "source": [
    "#### Example 1\n",
    "\n",
    "    - Attribute selected = 'Games played'\n",
    "    - Null Hypothesis H_0 = Players played an average of 20 games\n",
    "    - Alternative hypothesis H_1 = Players did not play an average of 20 games\n",
    "    - With an alpha of 5%, if p-value < 0.05, we will reject the null hypothesis. \n",
    "    \n",
    "_**The sample size is > 30 (556), therefore, I will use the Z-test for hypothesis testing.**_ "
   ]
  },
  {
   "cell_type": "code",
   "execution_count": 6,
   "metadata": {},
   "outputs": [
    {
     "name": "stdout",
     "output_type": "stream",
     "text": [
      "----\n",
      "p-value = 0.008189995452112976\n",
      "----\n",
      "p < 0.05: Reject null hypothesis - Players did not play an average of 20 games.\n"
     ]
    }
   ],
   "source": [
    "attr = 'Games played'\n",
    "attr_df = sportsdata[attr]\n",
    "#attr_mean = np.mean(attr_df)\n",
    "#print('Average Games played', attr_mean)\n",
    "H_0 = 'Players played an average of 20 games' + '.'\n",
    "H_1 = 'Players did not play an average of 20 games' + '.'\n",
    "print(\"----\")\n",
    "ztest ,pval = stests.ztest(attr_df, x2=None, value=20)\n",
    "print('p-value =',pval)\n",
    "print(\"----\")\n",
    "if pval < 0.05:    # alpha value is 5% (0.05)\n",
    "    print(\"p < 0.05: Reject null hypothesis -\", H_1)\n",
    "else:\n",
    "    print(\"p > 0.05: Accept null hypothesis -\", H_0)"
   ]
  },
  {
   "cell_type": "markdown",
   "metadata": {},
   "source": [
    "#### Example 2    \n",
    "    \n",
    "    - Attribute selected = 'Games played'\n",
    "    - Null Hypothesis H_0 = Players played an average of 18 games\n",
    "    - Alternative hypothesis H_1 = Players did not play an average of 18 games\n",
    "    - With an alpha of 5%, if p-value < 0.05, we will reject the null hypothesis.  "
   ]
  },
  {
   "cell_type": "code",
   "execution_count": 7,
   "metadata": {},
   "outputs": [
    {
     "name": "stdout",
     "output_type": "stream",
     "text": [
      "----\n",
      "p-value = 0.25428347765714576\n",
      "----\n",
      "p > 0.05: Accept null hypothesis - Players played an average of 18 games.\n"
     ]
    }
   ],
   "source": [
    "H_0 = 'Players played an average of 18 games' + '.'\n",
    "H_1 = 'Players did not play an average of 18 games' + '.'\n",
    "ztest ,pval = stests.ztest(attr_df, x2=None, value=18)\n",
    "print(\"----\")\n",
    "print('p-value =',pval)\n",
    "print(\"----\")\n",
    "if pval < 0.05:    # alpha value is 5% (0.05)\n",
    "    print(\"p < 0.05: Reject null hypothesis -\", H_1)\n",
    "else:\n",
    "    print(\"p > 0.05: Accept null hypothesis -\", H_0)"
   ]
  },
  {
   "cell_type": "markdown",
   "metadata": {},
   "source": [
    "## Level 2\n",
    "### Exercises 2\n",
    "\n",
    "Continue with the sports theme dataset you like and select two attributes from the dataset. Calculate the p-value and say if you reject the null hypothesis by taking a 5% alpha.\n",
    "\n",
    "#### Example 1\n",
    "    \n",
    "    - Attributes selected = 'Games played', 'Games started'\n",
    "    - Is there any association between players when they played games and them starting the games?\n",
    "    - Null Hypothesis H_0 = There is a correlation between games played and games started\n",
    "    - Alternative hypothesis H_1 = There is no correlation between games played and games started\n",
    "    - With an alpha of 5%, if p-value < 0.05, we will reject the null hypothesis.\n"
   ]
  },
  {
   "cell_type": "code",
   "execution_count": 8,
   "metadata": {},
   "outputs": [
    {
     "name": "stdout",
     "output_type": "stream",
     "text": [
      "----\n",
      "p-value 1.988582309384357e-07\n",
      "----\n",
      "p < 0.05: Reject null hypothesis - There is no correlation between Games played and Games started.\n"
     ]
    }
   ],
   "source": [
    "attr1 = 'Games played'\n",
    "attr2 = 'Games started'\n",
    "'''\n",
    "print(\"Games played mean value:\", np.mean(col1))\n",
    "print(\"Games started mean value:\", np.mean(col2))\n",
    "print(\"Games played std value:\", np.std(col1))\n",
    "print(\"Games started std value:\", np.std(col2))\n",
    "'''\n",
    "H_0 = 'There is a correlation between ' + attr1 + ' and ' + attr2 + '.'\n",
    "H_1 = 'There is no correlation between ' + attr1 + ' and ' + attr2 + '.'\n",
    "ztest ,pval = stests.ztest(sportsdata[attr1], sportsdata[attr2])\n",
    "#ttest,pval = ttest_ind(sportsdata[attr1], sportsdata[attr2])\n",
    "print(\"----\")\n",
    "print(\"p-value\", pval)\n",
    "print(\"----\")\n",
    "if pval < 0.05:\n",
    "    print(\"p < 0.05: Reject null hypothesis -\", H_1)\n",
    "else:\n",
    "    print(\"p > 0.05: Accept null hypothesis -\", H_0)"
   ]
  },
  {
   "cell_type": "markdown",
   "metadata": {},
   "source": [
    "#### Example 2\n",
    "    \n",
    "    - Attributes selected = 'Yellow Cards', 'Red Cards'\n",
    "    - Is there any association between players who received yellow cards and those who received red cards?\n",
    "    - Null Hypothesis H_0 = There is a correlation between yellow cards and red cards\n",
    "    - Alternative hypothesis H_1 = There is no correlation between yellow cards and red cards\n",
    "    - With an alpha of 5%, if p-value < 0.05, we will reject the null hypothesis."
   ]
  },
  {
   "cell_type": "code",
   "execution_count": 9,
   "metadata": {},
   "outputs": [
    {
     "name": "stdout",
     "output_type": "stream",
     "text": [
      "----\n",
      "p-value 5.925629810494435e-109\n",
      "----\n",
      "p < 0.05: Reject null hypothesis - There is no correlation between players receiving Yellow Cards and Red Cards.\n"
     ]
    }
   ],
   "source": [
    "attr1 = 'Yellow Cards'\n",
    "attr2 = 'Red Cards'\n",
    "H_0 = 'There is a correlation between players receiving ' + attr1 + ' and ' + attr2 + '.'\n",
    "H_1 = 'There is no correlation between players receiving ' + attr1 + ' and ' + attr2 + '.'\n",
    "ztest ,pval = stests.ztest(sportsdata[attr1], sportsdata[attr2])\n",
    "print(\"----\")\n",
    "print(\"p-value\",pval)\n",
    "print(\"----\")\n",
    "if pval < 0.05:\n",
    "    print(\"p < 0.05: Reject null hypothesis -\", H_1)\n",
    "else:\n",
    "    print(\"p > 0.05: Accept null hypothesis -\", H_0)"
   ]
  },
  {
   "cell_type": "markdown",
   "metadata": {},
   "source": [
    "## Level 3\n",
    "### Exercises 3\n",
    "\n",
    "Continue with the sports theme dataset you like and select three attributes from the dataset. Calculate the p-value and say if you reject the null hypothesis by taking a 5% alpha."
   ]
  },
  {
   "cell_type": "markdown",
   "metadata": {},
   "source": [
    "#### Example 1\n",
    "    \n",
    "    - Attributes selected = 'Games started', 'Games played', 'Goals scored'\n",
    "    - Is there any association between players who started games, played games and scoring goals?\n",
    "    - Null Hypothesis H_0 = There is a correlation between Games started, Games played and Goals scored\n",
    "    - Alternative hypothesis H_1 = There is no correlation between Games started, Games played and Goals scored\n",
    "    - With an alpha of 5%, if p-value < 0.05, we will reject the null hypothesis."
   ]
  },
  {
   "cell_type": "code",
   "execution_count": 15,
   "metadata": {},
   "outputs": [
    {
     "name": "stdout",
     "output_type": "stream",
     "text": [
      "----\n",
      "p-value 3.0533554796451302e-151\n",
      "----\n",
      "p < 0.05: Reject null hypothesis - There is no correlation between one or all of these attributes: Games started, Games played and Goals scored.\n"
     ]
    }
   ],
   "source": [
    "attr1 = 'Games started'\n",
    "attr2 = 'Games played'\n",
    "attr3 = 'Goals scored'\n",
    "H_0 = 'There is some correlation between one or all of these attributes: ' + attr1 + ' ' + attr2 + ' and ' + attr3 + '.'\n",
    "H_1 = 'There is no correlation between one or all of these attributes: ' + attr1 + ', ' + attr2 + ' and ' + attr3 + '.'\n",
    "\n",
    "F, pval = f_oneway(sportsdata[attr1], sportsdata[attr2], sportsdata[attr3])\n",
    "#print('F=%.4f, p=%.4f' % (F, p))\n",
    "print(\"----\")\n",
    "print(\"p-value\", pval)\n",
    "print(\"----\")\n",
    "if pval < 0.05:\n",
    "    print(\"p < 0.05: Reject null hypothesis -\", H_1)\n",
    "else:\n",
    "    print(\"p > 0.05: Accept null hypothesis -\", H_0)"
   ]
  },
  {
   "cell_type": "markdown",
   "metadata": {},
   "source": [
    "#### Example 2\n",
    "    \n",
    "    - Attributes selected = 'Goals scored', 'From inside the area', 'From outside the area'\n",
    "    - Is there any association between scoring goals and scoring them from inside or outside the area?\n",
    "    - Null Hypothesis H_0 = There is a correlation between scoring goals and scoring them from inside or outside the area\n",
    "    - Alternative hypothesis H_1 = There is no correlation between scoring goals and scoring them from inside or outside the area\n",
    "    - With an alpha of 5%, if p-value < 0.05, we will reject the null hypothesis."
   ]
  },
  {
   "cell_type": "code",
   "execution_count": 11,
   "metadata": {},
   "outputs": [
    {
     "name": "stdout",
     "output_type": "stream",
     "text": [
      "----\n",
      "p-value 4.983142406364849e-26\n",
      "----\n",
      "p < 0.05: Reject null hypothesis - There is no correlation between one or all of these attributes: Goals scored, From inside the area and From outside the area.\n"
     ]
    }
   ],
   "source": [
    "attr1 = 'Goals scored'\n",
    "attr2 = 'From inside the area'\n",
    "attr3 = 'From outside the area'\n",
    "\n",
    "H_0 = 'There is some correlation between one or all of these attributes: ' + attr1 + ' ' + attr2 + ' and ' + attr3 + '.'\n",
    "H_1 = 'There is no correlation between one or all of these attributes: ' + attr1 + ', ' + attr2 + ' and ' + attr3 + '.'\n",
    "\n",
    "F, pval = f_oneway(sportsdata[attr1], sportsdata[attr2], sportsdata[attr3])\n",
    "print(\"----\")\n",
    "print(\"p-value\", pval)\n",
    "print(\"----\")\n",
    "if pval < 0.05:\n",
    "    print(\"p < 0.05: Reject null hypothesis -\", H_1)\n",
    "else:\n",
    "    print(\"p > 0.05: Accept null hypothesis -\", H_0)"
   ]
  },
  {
   "cell_type": "code",
   "execution_count": null,
   "metadata": {},
   "outputs": [],
   "source": []
  }
 ],
 "metadata": {
  "kernelspec": {
   "display_name": "Python 3",
   "language": "python",
   "name": "python3"
  },
  "language_info": {
   "codemirror_mode": {
    "name": "ipython",
    "version": 3
   },
   "file_extension": ".py",
   "mimetype": "text/x-python",
   "name": "python",
   "nbconvert_exporter": "python",
   "pygments_lexer": "ipython3",
   "version": "3.8.5"
  },
  "latex_envs": {
   "LaTeX_envs_menu_present": true,
   "autoclose": false,
   "autocomplete": true,
   "bibliofile": "biblio.bib",
   "cite_by": "apalike",
   "current_citInitial": 1,
   "eqLabelWithNumbers": true,
   "eqNumInitial": 1,
   "hotkeys": {
    "equation": "Ctrl-E",
    "itemize": "Ctrl-I"
   },
   "labels_anchors": false,
   "latex_user_defs": false,
   "report_style_numbering": false,
   "user_envs_cfg": false
  },
  "nbTranslate": {
   "displayLangs": [
    "*"
   ],
   "hotkey": "alt-t",
   "langInMainMenu": true,
   "sourceLang": "en",
   "targetLang": "fr",
   "useGoogleTranslate": true
  },
  "toc": {
   "base_numbering": "1",
   "nav_menu": {},
   "number_sections": true,
   "sideBar": true,
   "skip_h1_title": true,
   "title_cell": "Table of Contents",
   "title_sidebar": "Contents",
   "toc_cell": false,
   "toc_position": {
    "height": "calc(100% - 180px)",
    "left": "10px",
    "top": "150px",
    "width": "165px"
   },
   "toc_section_display": true,
   "toc_window_display": true
  },
  "varInspector": {
   "cols": {
    "lenName": 16,
    "lenType": 16,
    "lenVar": 40
   },
   "kernels_config": {
    "python": {
     "delete_cmd_postfix": "",
     "delete_cmd_prefix": "del ",
     "library": "var_list.py",
     "varRefreshCmd": "print(var_dic_list())"
    },
    "r": {
     "delete_cmd_postfix": ") ",
     "delete_cmd_prefix": "rm(",
     "library": "var_list.r",
     "varRefreshCmd": "cat(var_dic_list()) "
    }
   },
   "types_to_exclude": [
    "module",
    "function",
    "builtin_function_or_method",
    "instance",
    "_Feature"
   ],
   "window_display": false
  }
 },
 "nbformat": 4,
 "nbformat_minor": 2
}
